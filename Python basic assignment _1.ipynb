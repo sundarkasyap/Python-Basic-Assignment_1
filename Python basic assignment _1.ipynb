{
 "cells": [
  {
   "cell_type": "markdown",
   "id": "423de741",
   "metadata": {},
   "source": [
    "# Python Basic Assignment_1"
   ]
  },
  {
   "cell_type": "code",
   "execution_count": null,
   "id": "a739ea00",
   "metadata": {},
   "outputs": [],
   "source": [
    "1ans.\n",
    "* = expression\n",
    "'hello'= string\n",
    "-87.8= float\n",
    "- = expression\n",
    "/ = expression\n",
    "6 = int\n"
   ]
  },
  {
   "cell_type": "code",
   "execution_count": null,
   "id": "1f91aae6",
   "metadata": {},
   "outputs": [],
   "source": [
    "2ans.\n",
    "string is a combination of character which contains alphabets and numbers it is always represented with \"\" & ''\n",
    "variable is a container in which we can store any value for eg: a=10 here \"a\" is a variable where value 10 (data) is stored "
   ]
  },
  {
   "cell_type": "code",
   "execution_count": null,
   "id": "89b6c880",
   "metadata": {},
   "outputs": [],
   "source": [
    "3ans.\n",
    "String = for characters\n",
    "float = numbers with decimal point, represented as 8.5 or 4.0\n",
    "int = just numbers without decimal point represented as 5 or 7\n"
   ]
  },
  {
   "cell_type": "code",
   "execution_count": null,
   "id": "a278a5a3",
   "metadata": {},
   "outputs": [],
   "source": [
    "4ans.\n",
    "expressions are mathematical operators and we can also do some operations for string such as + & * . \n",
    "eg:\n",
    "    19 + 16 \n",
    "    \"sundar\" + \"kasyap\""
   ]
  },
  {
   "cell_type": "code",
   "execution_count": null,
   "id": "d3378fd5",
   "metadata": {},
   "outputs": [],
   "source": [
    "5ans.\n",
    "expression is used to combine value to generate a new value.expressions are mathematical operators\n",
    "statements are lines in the code it does not change its value, creating variables or displaying the values are statement  "
   ]
  },
  {
   "cell_type": "code",
   "execution_count": null,
   "id": "0e2bbdbe",
   "metadata": {},
   "outputs": [],
   "source": [
    "6ans.\n",
    "variable bacon contain value of 22 as \n",
    "bacon is assigned with a value of 22\n",
    "and the final result is 23"
   ]
  },
  {
   "cell_type": "code",
   "execution_count": null,
   "id": "6265346b",
   "metadata": {},
   "outputs": [],
   "source": [
    "7ans.\n",
    "output for both the terms are \n",
    "'spamspamspam'"
   ]
  },
  {
   "cell_type": "code",
   "execution_count": null,
   "id": "9400c11a",
   "metadata": {},
   "outputs": [],
   "source": [
    "8ans.\n",
    "eggs is group of characters which can be used to name a variable\n",
    "100 is a number, we cant start a variable name with a number as its not accepted "
   ]
  },
  {
   "cell_type": "code",
   "execution_count": null,
   "id": "f8bca036",
   "metadata": {},
   "outputs": [],
   "source": [
    "9ans.\n",
    "string\n",
    "int\n",
    "float"
   ]
  },
  {
   "cell_type": "code",
   "execution_count": null,
   "id": "7d3b454a",
   "metadata": {},
   "outputs": [],
   "source": [
    "10ans.\n",
    "'i have eaten' + 99 + 'burritos',here 99 is a int and rest two are string, we cant make any expressions between string and int\n",
    "so the 99 should be represented as '99', which convert it from int to string.\n",
    "correct expression is\n",
    "'i have eaten'+'99'+'burritos'\n",
    "output\n",
    "'i have eaten99burritos'"
   ]
  }
 ],
 "metadata": {
  "kernelspec": {
   "display_name": "Python 3 (ipykernel)",
   "language": "python",
   "name": "python3"
  },
  "language_info": {
   "codemirror_mode": {
    "name": "ipython",
    "version": 3
   },
   "file_extension": ".py",
   "mimetype": "text/x-python",
   "name": "python",
   "nbconvert_exporter": "python",
   "pygments_lexer": "ipython3",
   "version": "3.9.7"
  }
 },
 "nbformat": 4,
 "nbformat_minor": 5
}
